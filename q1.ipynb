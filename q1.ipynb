{
 "cells": [
  {
   "cell_type": "markdown",
   "metadata": {},
   "source": [
    "# the first exercise"
   ]
  },
  {
   "cell_type": "markdown",
   "metadata": {},
   "source": []
  },
  {
   "cell_type": "markdown",
   "metadata": {},
   "source": [
    "کتاب خانه های مورد نیاز خود را درج میکنیم :  "
   ]
  },
  {
   "cell_type": "code",
   "execution_count": 2,
   "metadata": {},
   "outputs": [],
   "source": [
    "from sklearn.model_selection import train_test_split\n",
    "import numpy as np\n",
    "import matplotlib.pyplot as plt\n",
    "import pandas as pd\n"
   ]
  },
  {
   "cell_type": "markdown",
   "metadata": {},
   "source": [
    "سپس برای اموزش مدل خود کلاس زیر را تعریف کرده تا مطابق انچه که مورد نظر است بتواند با درنظر گرفتن \n",
    "تابع فعالساز مقدار آموزش و نیز بدست اوردن دقت و صحت  مدل را اموزش بدهد :"
   ]
  },
  {
   "cell_type": "code",
   "execution_count": 20,
   "metadata": {},
   "outputs": [],
   "source": [
    "\n",
    "class Perceptron:\n",
    "    def __init__(self, input_size):\n",
    "        # Initialize weights and bias randomly\n",
    "        self.weights = np.random.rand(input_size)\n",
    "        self.bias = np.random.rand()\n",
    "\n",
    "    def step_function(self, x):\n",
    "        # Step activation function\n",
    "        return 1 if x >= 0 else 0\n",
    "\n",
    "    def predict(self, inputs):\n",
    "        # Make a prediction\n",
    "        weighted_sum = np.dot(inputs, self.weights) + self.bias\n",
    "        return self.step_function(weighted_sum)\n",
    "\n",
    "    def update_weights(self, inputs, target, learning_rate):\n",
    "        # Update weights based on the perceptron learning rule\n",
    "        prediction = self.predict(inputs)\n",
    "        error = target - prediction\n",
    "        self.weights += learning_rate * error * inputs\n",
    "        self.bias += learning_rate * error\n",
    "\n",
    "    def train(self, training_data, epochs, learning_rate):\n",
    "        # Train the perceptron\n",
    "        for epoch in range(epochs):\n",
    "            for inputs, target in training_data:\n",
    "                self.update_weights(inputs, target, learning_rate)\n",
    "\n",
    "    def calculate_accuracy(self, test_data):\n",
    "        # Calculate accuracy on test data\n",
    "        correct_predictions = 0\n",
    "        total_samples = len(test_data)\n",
    "\n",
    "        for inputs, target in test_data:\n",
    "            prediction = self.predict(inputs)\n",
    "            if prediction == target:\n",
    "                correct_predictions += 1\n",
    "\n",
    "        accuracy = correct_predictions / total_samples\n",
    "        return accuracy\n",
    "\n",
    "      \n",
    "        "
   ]
  },
  {
   "cell_type": "markdown",
   "metadata": {},
   "source": [
    "افزودن دیتا ها و بررسی کلید ها :"
   ]
  },
  {
   "cell_type": "code",
   "execution_count": 4,
   "metadata": {},
   "outputs": [
    {
     "name": "stdout",
     "output_type": "stream",
     "text": [
      "Index(['x_point', 'y_point', 'label'], dtype='object')\n"
     ]
    }
   ],
   "source": [
    "data = pd.read_csv('data_L_H.csv', sep = ',', header = 0)\n",
    "print(data.keys())"
   ]
  },
  {
   "cell_type": "markdown",
   "metadata": {},
   "source": [
    "ابتدا داده ها را از دیتا فریم خارج کرده و انها را ارایه ای میکنیم\n",
    "بعد از ان مقداری اعشاری داده و سپس به داده های تست و ترین تقسیم بندی میشوند "
   ]
  },
  {
   "cell_type": "code",
   "execution_count": 5,
   "metadata": {},
   "outputs": [],
   "source": [
    "X = data[['x_point', 'y_point']].values\n",
    "y = data['label'].values\n",
    "X = X.astype(float)\n",
    "y = y.astype(float)\n",
    "X_train, X_test, y_train, y_test = train_test_split(X, y, train_size=0.76, random_state=42)\n",
    "\n"
   ]
  },
  {
   "cell_type": "markdown",
   "metadata": {},
   "source": [
    "یکی از موارد ضروری ورودی کلاس سایز ورودی است : "
   ]
  },
  {
   "cell_type": "code",
   "execution_count": 14,
   "metadata": {},
   "outputs": [
    {
     "data": {
      "text/plain": [
       "2"
      ]
     },
     "execution_count": 14,
     "metadata": {},
     "output_type": "execute_result"
    }
   ],
   "source": [
    "input_size = X_train.shape[1]\n",
    "input_size"
   ]
  },
  {
   "cell_type": "markdown",
   "metadata": {},
   "source": [
    "اماده سازی"
   ]
  },
  {
   "cell_type": "code",
   "execution_count": 15,
   "metadata": {},
   "outputs": [],
   "source": [
    "perceptron = Perceptron(input_size)"
   ]
  },
  {
   "cell_type": "markdown",
   "metadata": {},
   "source": [
    "بخشی که در ادامه می اید ضروری نیست اما برای نمایش بهتر  و نیز استفاده راحت تر که لیبل هر داده در کنار ان باشد\n",
    "به کمک ما می اید "
   ]
  },
  {
   "cell_type": "code",
   "execution_count": 16,
   "metadata": {},
   "outputs": [
    {
     "data": {
      "text/plain": [
       "[(array([16.,  8.]), 1.0),\n",
       " (array([12., 10.]), 0.0),\n",
       " (array([2., 7.]), 1.0),\n",
       " (array([1., 7.]), 1.0),\n",
       " (array([15., 10.]), 0.0),\n",
       " (array([20., 10.]), 0.0),\n",
       " (array([ 0., 10.]), 0.0),\n",
       " (array([9., 3.]), 1.0),\n",
       " (array([0., 3.]), 1.0),\n",
       " (array([10.,  0.]), 1.0),\n",
       " (array([7., 2.]), 1.0),\n",
       " (array([7., 9.]), 0.0),\n",
       " (array([14., -1.]), 0.0),\n",
       " (array([5., 4.]), 0.0),\n",
       " (array([19.,  4.]), 1.0),\n",
       " (array([15.,  5.]), 1.0),\n",
       " (array([2., 9.]), 1.0),\n",
       " (array([1., 0.]), 1.0),\n",
       " (array([3., 2.]), 1.0),\n",
       " (array([2., 6.]), 1.0),\n",
       " (array([4., 0.]), 1.0),\n",
       " (array([11., 10.]), 0.0),\n",
       " (array([ 7., 10.]), 0.0),\n",
       " (array([20.,  4.]), 0.0),\n",
       " (array([6., 1.]), 1.0),\n",
       " (array([12., -1.]), 0.0),\n",
       " (array([13.,  5.]), 1.0),\n",
       " (array([4., 9.]), 0.0),\n",
       " (array([3., 9.]), 1.0),\n",
       " (array([19.,  2.]), 1.0),\n",
       " (array([ 4., -1.]), 0.0),\n",
       " (array([14.,  8.]), 0.0),\n",
       " (array([2., 4.]), 1.0),\n",
       " (array([20., 11.]), 0.0),\n",
       " (array([16.,  3.]), 1.0),\n",
       " (array([19., -1.]), 0.0),\n",
       " (array([0., 0.]), 1.0),\n",
       " (array([ 4., 10.]), 0.0),\n",
       " (array([5., 0.]), 1.0),\n",
       " (array([14., 11.]), 0.0),\n",
       " (array([ 9., -1.]), 0.0),\n",
       " (array([ 6., 10.]), 0.0),\n",
       " (array([ 5., 10.]), 0.0),\n",
       " (array([20., -1.]), 0.0),\n",
       " (array([3., 4.]), 1.0),\n",
       " (array([18., 10.]), 0.0),\n",
       " (array([8., 3.]), 1.0),\n",
       " (array([2., 0.]), 1.0),\n",
       " (array([20.,  0.]), 0.0),\n",
       " (array([ 9., 10.]), 0.0),\n",
       " (array([3., 2.]), 1.0),\n",
       " (array([0., 9.]), 1.0),\n",
       " (array([19.,  3.]), 1.0),\n",
       " (array([13.,  0.]), 1.0),\n",
       " (array([0., 4.]), 1.0),\n",
       " (array([2., 5.]), 1.0),\n",
       " (array([13.,  6.]), 1.0),\n",
       " (array([19.,  0.]), 1.0),\n",
       " (array([20.,  5.]), 0.0),\n",
       " (array([0., 2.]), 1.0),\n",
       " (array([3., 2.]), 1.0),\n",
       " (array([10., 10.]), 0.0),\n",
       " (array([10.,  9.]), 1.0),\n",
       " (array([18., -1.]), 0.0),\n",
       " (array([18.,  3.]), 1.0),\n",
       " (array([10., -1.]), 0.0),\n",
       " (array([0., 8.]), 1.0),\n",
       " (array([9., 0.]), 1.0),\n",
       " (array([10.,  5.]), 1.0),\n",
       " (array([11.,  3.]), 1.0),\n",
       " (array([16.,  1.]), 1.0),\n",
       " (array([0., 0.]), 1.0),\n",
       " (array([17.,  8.]), 1.0),\n",
       " (array([16.,  9.]), 1.0),\n",
       " (array([ 2., 10.]), 0.0),\n",
       " (array([12.,  6.]), 1.0),\n",
       " (array([9., 2.]), 1.0),\n",
       " (array([4., 2.]), 1.0),\n",
       " (array([15., -1.]), 0.0),\n",
       " (array([3., 8.]), 1.0),\n",
       " (array([14.,  0.]), 0.0),\n",
       " (array([2., 1.]), 1.0),\n",
       " (array([11.,  8.]), 1.0),\n",
       " (array([11.,  4.]), 1.0),\n",
       " (array([5., 6.]), 0.0),\n",
       " (array([3., 7.]), 1.0),\n",
       " (array([16.,  2.]), 1.0),\n",
       " (array([5., 1.]), 1.0),\n",
       " (array([7., 6.]), 0.0),\n",
       " (array([12.,  4.]), 1.0),\n",
       " (array([4., 1.]), 1.0),\n",
       " (array([20.,  6.]), 0.0),\n",
       " (array([0., 1.]), 1.0),\n",
       " (array([9., 4.]), 0.0),\n",
       " (array([6., 3.]), 1.0),\n",
       " (array([15.,  8.]), 0.0),\n",
       " (array([17.,  9.]), 1.0),\n",
       " (array([12.,  7.]), 1.0),\n",
       " (array([18.,  4.]), 1.0),\n",
       " (array([5., 3.]), 1.0),\n",
       " (array([5., 5.]), 0.0),\n",
       " (array([3., 2.]), 1.0),\n",
       " (array([0., 5.]), 1.0),\n",
       " (array([9., 9.]), 0.0),\n",
       " (array([ 6., -1.]), 0.0),\n",
       " (array([5., 6.]), 0.0),\n",
       " (array([17.,  1.]), 1.0),\n",
       " (array([18.,  0.]), 1.0),\n",
       " (array([6., 9.]), 0.0),\n",
       " (array([0., 6.]), 1.0),\n",
       " (array([1., 1.]), 1.0),\n",
       " (array([8., 1.]), 1.0),\n",
       " (array([16.,  6.]), 1.0),\n",
       " (array([15.,  2.]), 0.0),\n",
       " (array([1., 5.]), 1.0),\n",
       " (array([12.,  9.]), 1.0),\n",
       " (array([ 3., 10.]), 0.0),\n",
       " (array([17.,  0.]), 1.0),\n",
       " (array([15.,  9.]), 0.0),\n",
       " (array([16.,  0.]), 1.0),\n",
       " (array([18.,  2.]), 1.0),\n",
       " (array([9., 1.]), 1.0),\n",
       " (array([7., 0.]), 1.0),\n",
       " (array([9., 6.]), 0.0),\n",
       " (array([6., 0.]), 1.0),\n",
       " (array([13.,  9.]), 1.0),\n",
       " (array([14.,  3.]), 1.0),\n",
       " (array([13.,  4.]), 1.0),\n",
       " (array([8., 0.]), 1.0),\n",
       " (array([5., 2.]), 1.0),\n",
       " (array([6., 6.]), 0.0),\n",
       " (array([1., 9.]), 1.0),\n",
       " (array([7., 3.]), 1.0),\n",
       " (array([12.,  0.]), 1.0),\n",
       " (array([19.,  1.]), 1.0),\n",
       " (array([15.,  0.]), 0.0),\n",
       " (array([3., 5.]), 1.0),\n",
       " (array([11.,  7.]), 1.0),\n",
       " (array([18.,  7.]), 1.0),\n",
       " (array([0., 1.]), 1.0),\n",
       " (array([6., 2.]), 1.0),\n",
       " (array([10.,  6.]), 1.0),\n",
       " (array([15.,  1.]), 0.0),\n",
       " (array([10.,  8.]), 1.0),\n",
       " (array([8., 7.]), 0.0),\n",
       " (array([ 7., -1.]), 0.0),\n",
       " (array([11., -1.]), 0.0),\n",
       " (array([6., 4.]), 0.0),\n",
       " (array([4., 4.]), 0.0),\n",
       " (array([19., 10.]), 0.0),\n",
       " (array([15., 61.]), 1.0),\n",
       " (array([1., 8.]), 1.0),\n",
       " (array([17.,  3.]), 1.0),\n",
       " (array([ 2., -1.]), 0.0),\n",
       " (array([9., 5.]), 0.0),\n",
       " (array([1., 2.]), 1.0),\n",
       " (array([7., 4.]), 0.0),\n",
       " (array([16.,  4.]), 1.0),\n",
       " (array([8., 6.]), 0.0)]"
      ]
     },
     "execution_count": 16,
     "metadata": {},
     "output_type": "execute_result"
    }
   ],
   "source": [
    "\n",
    "training_data = list(zip(X_train, y_train))\n",
    "training_data\n",
    "\n"
   ]
  },
  {
   "cell_type": "markdown",
   "metadata": {},
   "source": [
    "اموزش مدل‌:"
   ]
  },
  {
   "cell_type": "code",
   "execution_count": 17,
   "metadata": {},
   "outputs": [],
   "source": [
    "perceptron.train(training_data, epochs=1000, learning_rate=0.1)\n"
   ]
  },
  {
   "cell_type": "markdown",
   "metadata": {},
   "source": [
    "اماده سازی داده تست و نهایتا بررسی صحت : "
   ]
  },
  {
   "cell_type": "code",
   "execution_count": 21,
   "metadata": {},
   "outputs": [],
   "source": [
    "testing_data = list(zip(X_test, y_test))"
   ]
  },
  {
   "cell_type": "code",
   "execution_count": 22,
   "metadata": {},
   "outputs": [
    {
     "name": "stdout",
     "output_type": "stream",
     "text": [
      "Accuracy: 50.98%\n"
     ]
    }
   ],
   "source": [
    "accuracy = perceptron.calculate_accuracy(testing_data)\n",
    "\n",
    "print(f\"Accuracy: {accuracy * 100:.2f}%\")"
   ]
  },
  {
   "cell_type": "code",
   "execution_count": null,
   "metadata": {},
   "outputs": [],
   "source": []
  }
 ],
 "metadata": {
  "kernelspec": {
   "display_name": "py311",
   "language": "python",
   "name": "python3"
  },
  "language_info": {
   "codemirror_mode": {
    "name": "ipython",
    "version": 3
   },
   "file_extension": ".py",
   "mimetype": "text/x-python",
   "name": "python",
   "nbconvert_exporter": "python",
   "pygments_lexer": "ipython3",
   "version": "3.11.5"
  }
 },
 "nbformat": 4,
 "nbformat_minor": 2
}
